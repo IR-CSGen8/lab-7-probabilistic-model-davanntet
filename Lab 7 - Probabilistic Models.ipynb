{
 "cells": [
  {
   "cell_type": "code",
   "execution_count": 1,
   "id": "3c892250",
   "metadata": {
    "ExecuteTime": {
     "end_time": "2023-11-02T13:39:03.220009900Z",
     "start_time": "2023-11-02T13:39:03.214339700Z"
    }
   },
   "outputs": [],
   "source": [
    "# Import necessary libraries\n",
    "from collections import defaultdict\n",
    "\n",
    "# Define the documents\n",
    "documents = [\n",
    "    \"I love cats . cats are cute pets.\",\n",
    "    \"Dogs are loyal. Dogs are good friends.\",\n",
    "    \"Birds can sing. Birds fly in the sky.\",\n",
    "    \"Fish live underwater. Fish come in many colors.\"\n",
    "]"
   ]
  },
  {
   "cell_type": "markdown",
   "id": "2a685610",
   "metadata": {},
   "source": [
    "In this section, we define and create unigram models for the documents. Unigrams are single words or terms, and a unigram model represents the probability distribution of individual terms in the document. The unigram_model function counts the occurrences of each term in a document, calculates the probabilities, and returns the unigram model. We create unigram models for all documents in the collection."
   ]
  },
  {
   "cell_type": "markdown",
   "id": "a8d0e623",
   "metadata": {},
   "source": [
    "# Create Unigram Models"
   ]
  },
  {
   "cell_type": "code",
   "execution_count": 2,
   "id": "2d589155",
   "metadata": {
    "ExecuteTime": {
     "end_time": "2023-11-02T13:39:06.861380500Z",
     "start_time": "2023-11-02T13:39:06.847849200Z"
    }
   },
   "outputs": [],
   "source": [
    "def unigram_model(document):\n",
    "    words = document.split()\n",
    "    total_words = len(words)\n",
    "    unigram_counts = defaultdict(int)\n",
    "    for word in words:\n",
    "        unigram_counts[word] += 1\n",
    "    unigram_model = {word: count / total_words for word, count in unigram_counts.items()}\n",
    "    return unigram_model"
   ]
  },
  {
   "cell_type": "code",
   "execution_count": 3,
   "id": "9c571b22",
   "metadata": {
    "ExecuteTime": {
     "end_time": "2023-11-02T13:39:09.267283100Z",
     "start_time": "2023-11-02T13:39:09.258286600Z"
    }
   },
   "outputs": [],
   "source": [
    "# Create unigram models for all documents\n",
    "unigram_models = [unigram_model(doc) for doc in documents]"
   ]
  },
  {
   "cell_type": "code",
   "execution_count": 4,
   "id": "a16bdec3",
   "metadata": {
    "ExecuteTime": {
     "end_time": "2023-11-02T13:39:11.417422100Z",
     "start_time": "2023-11-02T13:39:11.399142200Z"
    }
   },
   "outputs": [
    {
     "data": {
      "text/plain": "[{'I': 0.125,\n  'love': 0.125,\n  'cats': 0.25,\n  '.': 0.125,\n  'are': 0.125,\n  'cute': 0.125,\n  'pets.': 0.125},\n {'Dogs': 0.2857142857142857,\n  'are': 0.2857142857142857,\n  'loyal.': 0.14285714285714285,\n  'good': 0.14285714285714285,\n  'friends.': 0.14285714285714285},\n {'Birds': 0.25,\n  'can': 0.125,\n  'sing.': 0.125,\n  'fly': 0.125,\n  'in': 0.125,\n  'the': 0.125,\n  'sky.': 0.125},\n {'Fish': 0.25,\n  'live': 0.125,\n  'underwater.': 0.125,\n  'come': 0.125,\n  'in': 0.125,\n  'many': 0.125,\n  'colors.': 0.125}]"
     },
     "execution_count": 4,
     "metadata": {},
     "output_type": "execute_result"
    }
   ],
   "source": [
    "unigram_models"
   ]
  },
  {
   "cell_type": "code",
   "execution_count": 5,
   "id": "faa6e564",
   "metadata": {
    "ExecuteTime": {
     "end_time": "2023-11-02T13:39:14.755568800Z",
     "start_time": "2023-11-02T13:39:14.747542200Z"
    }
   },
   "outputs": [],
   "source": [
    "#we have a query \n",
    "query = \"I like cats and dogs\""
   ]
  },
  {
   "cell_type": "code",
   "execution_count": 14,
   "id": "85f84e9b",
   "metadata": {
    "ExecuteTime": {
     "end_time": "2023-11-02T13:40:18.789132700Z",
     "start_time": "2023-11-02T13:40:18.785616500Z"
    }
   },
   "outputs": [],
   "source": [
    "def calculate_query_probability(query, document_model):\n",
    "    # Tokenize the query into words\n",
    "    query_words = query.split()\n",
    "    \n",
    "    # Initialize the probability for the entire query\n",
    "    query_probability = 1.0\n",
    "    \n",
    "    # Calculate the probability for each term in the query\n",
    "    for word in query_words:\n",
    "        if word in document_model:\n",
    "            query_probability *= document_model[word]\n",
    "        else:\n",
    "            query_probability = 0.0\n",
    "            break\n",
    "    \n",
    "    return query_probability"
   ]
  },
  {
   "cell_type": "code",
   "execution_count": 13,
   "id": "25934062",
   "metadata": {
    "ExecuteTime": {
     "end_time": "2023-11-02T13:39:43.455852800Z",
     "start_time": "2023-11-02T13:39:43.450342600Z"
    }
   },
   "outputs": [],
   "source": [
    "query_probability = calculate_query_probability(query, unigram_models[0])"
   ]
  },
  {
   "cell_type": "code",
   "execution_count": 8,
   "id": "e57e1768",
   "metadata": {
    "ExecuteTime": {
     "end_time": "2023-11-02T13:39:22.397761200Z",
     "start_time": "2023-11-02T13:39:22.388012600Z"
    }
   },
   "outputs": [
    {
     "data": {
      "text/plain": "0.0"
     },
     "execution_count": 8,
     "metadata": {},
     "output_type": "execute_result"
    }
   ],
   "source": [
    "query_probability"
   ]
  },
  {
   "cell_type": "markdown",
   "id": "f2641c2c",
   "metadata": {},
   "source": [
    "## Your task"
   ]
  },
  {
   "cell_type": "code",
   "execution_count": 142,
   "id": "771db8aa",
   "metadata": {
    "ExecuteTime": {
     "end_time": "2023-11-02T15:43:35.182910600Z",
     "start_time": "2023-11-02T15:43:35.177904300Z"
    }
   },
   "outputs": [
    {
     "name": "stdout",
     "output_type": "stream",
     "text": [
      "Document 2 - Score: 0.0000120563 - Content: Dogs are loyal. Dogs are good friends.\n",
      "Document 1 - Score: 0.0000079012 - Content: I love cats . cats are cute pets.\n",
      "Document 3 - Score: 0.0000013169 - Content: Birds can sing. Birds fly in the sky.\n",
      "Document 4 - Score: 0.0000013169 - Content: Fish live underwater. Fish come in many colors.\n"
     ]
    }
   ],
   "source": [
    "# Use Laplace Smoothing for this problem\n",
    "def laplace_smoothing(documents, alpha=1):\n",
    "    # Define a small constant for smoothing\n",
    "    alpha = 1\n",
    "\n",
    "    word_probabilities = []\n",
    "    for document in documents:\n",
    "        word_counts = {}\n",
    "        total_word_count = 0\n",
    "        vocab = set()\n",
    "        word_probabilitie = {}\n",
    "        for word in document.split():\n",
    "            word_counts[word] = word_counts.get(word, 0) + 1\n",
    "            total_word_count += 1\n",
    "            vocab.add(word)\n",
    "        for word in vocab:\n",
    "            word_probabilitie[word] = (word_counts.get(word, 0) + alpha) / (alpha*total_word_count + ( len(vocab)))\n",
    "        word_probabilities.append(word_probabilitie)\n",
    "    return word_probabilities\n",
    "\n",
    "\n",
    "def search_documents(query, documents, word_probabilities):\n",
    "    query_words = query.lower().split()\n",
    "    document_scores = {}\n",
    "    alpha = 1\n",
    "    for i, document in enumerate(documents):\n",
    "        vocab = {q for q in document.split()}\n",
    "        total_word_count = len(document.split())\n",
    "        score = 1.0\n",
    "        for word in query_words:\n",
    "            if word in word_probabilities[i]:\n",
    "                score *= word_probabilities[i][word]\n",
    "            else:\n",
    "                score *= alpha / (total_word_count + (alpha * len(vocab)))\n",
    "        document_scores[i] = score\n",
    "    # Sort documents by score in descending order\n",
    "    sorted_documents = sorted(document_scores.items(), key=lambda x: x[1], reverse=True)\n",
    "    return sorted_documents\n",
    "\n",
    "\n",
    "documents = [\n",
    "    \"I love cats . cats are cute pets.\",\n",
    "    \"Dogs are loyal. Dogs are good friends.\",\n",
    "    \"Birds can sing. Birds fly in the sky.\",\n",
    "    \"Fish live underwater. Fish come in many colors.\"\n",
    "]\n",
    "_documents = documents.copy()\n",
    "documents = [doc.lower() for doc in documents]\n",
    "# Build word probabilities using Laplace smoothing\n",
    "word_probabilities= laplace_smoothing(documents)\n",
    "# Search for documents relevant to a query\n",
    "query = \"I like cats and dogs\"\n",
    "results = search_documents(query, documents, word_probabilities)\n",
    "# Print the results\n",
    "for doc_index, score in results:\n",
    "    print(f'Document {doc_index+1} - Score: {score:.10f} - Content: {_documents[doc_index]}')\n",
    "\n",
    "# https://www.exploredatabase.com/2020/10/explain-add-1-laplace-smoothing-with-example.html"
   ]
  },
  {
   "cell_type": "code",
   "execution_count": 141,
   "id": "a7f2705d",
   "metadata": {
    "ExecuteTime": {
     "end_time": "2023-11-02T15:43:31.180288100Z",
     "start_time": "2023-11-02T15:43:31.174742900Z"
    }
   },
   "outputs": [
    {
     "name": "stdout",
     "output_type": "stream",
     "text": [
      "Probability: 0.0000115693 - Document: I love cats . cats are cute pets.\n",
      "Probability: 0.0000003768 - Document: Dogs are loyal. Dogs are good friends.\n",
      "Probability: 0.0000003768 - Document: Birds can sing. Birds fly in the sky.\n",
      "Probability: 0.0000003768 - Document: Fish live underwater. Fish come in many colors.\n"
     ]
    }
   ],
   "source": [
    "# create a bigram model & apply smoothing method\n",
    "def laplace_bigram_smoothing(documents, alpha=1):\n",
    "    # Define a small constant for smoothing\n",
    "    alpha = 1\n",
    "    bigram_probabilities=[]\n",
    "    unigram_all = []\n",
    "    for document in documents:\n",
    "        vocab = set()\n",
    "        bigram_counts = {}\n",
    "        unigram_counts = {}\n",
    "        bigram_probabilitie = {}\n",
    "        words = document.split()\n",
    "        for i in range(len(words)-1):\n",
    "            bigram = (words[i], words[i+1])\n",
    "            bigram_counts[bigram] = bigram_counts.get(bigram, 0) + 1\n",
    "            unigram_counts[words[i]] = unigram_counts.get(words[i], 0) + 1\n",
    "            vocab.add(words[i])\n",
    "        for bigram in bigram_counts:\n",
    "            prev_word = bigram[0]\n",
    "            bigram_probabilitie[bigram] = (bigram_counts.get(bigram, 0) + alpha) / (unigram_counts.get(prev_word, 0) + (alpha * len(vocab)))\n",
    "        bigram_probabilities.append(bigram_probabilitie)\n",
    "        unigram_all.append(unigram_counts)\n",
    "    return bigram_probabilities,unigram_all\n",
    "\n",
    "\n",
    "def search_documents_bigram(query, documents, bigram_model,unigram_all):\n",
    "    bigram_probabilities = bigram_model\n",
    "    query_words = query.lower().split()\n",
    "    relevant_documents = []\n",
    "    alpha = 1\n",
    "    for i, document in enumerate(documents):\n",
    "        document_probability = 1.0\n",
    "        words = document.split()\n",
    "        unigram_counts = len(document.split())\n",
    "        vocab = {q for q in document.split()}\n",
    "        for j in range(len(words)-1):\n",
    "            bigram = (words[j], words[j+1])\n",
    "            if bigram in bigram_probabilities:\n",
    "                document_probability *= bigram_probabilities[bigram]\n",
    "            else:\n",
    "                document_probability *= alpha / (unigram_all[i].get(words[j], 0) + (alpha * len(vocab)))\n",
    "        relevant_documents.append((document, document_probability))\n",
    "\n",
    "    # Sort documents by probability in descending order\n",
    "    relevant_documents.sort(key=lambda x: x[1], reverse=True)\n",
    "\n",
    "    return relevant_documents\n",
    "\n",
    "\n",
    "documents = [\n",
    "    \"I love cats . cats are cute pets.\",\n",
    "    \"Dogs are loyal. Dogs are good friends.\",\n",
    "    \"Birds can sing. Birds fly in the sky.\",\n",
    "    \"Fish live underwater. Fish come in many colors.\"\n",
    "]\n",
    "_documents = documents.copy()\n",
    "documents = [doc.lower() for doc in documents]\n",
    "# Build the bigram model with Laplace smoothing\n",
    "bigram_model,unigram_all = laplace_bigram_smoothing(documents)\n",
    "# Search for documents relevant to a query using bigram model\n",
    "query = \"I like cats and dogs\"\n",
    "results = search_documents_bigram(query, documents, bigram_model,unigram_all)\n",
    "# Print the results\n",
    "for i ,(document, probability) in enumerate(results):\n",
    "    print(f'Probability: {probability:.10f} - Document: {_documents[i]}')\n"
   ]
  }
 ],
 "metadata": {
  "kernelspec": {
   "display_name": "Python 3",
   "language": "python",
   "name": "python3"
  },
  "language_info": {
   "codemirror_mode": {
    "name": "ipython",
    "version": 3
   },
   "file_extension": ".py",
   "mimetype": "text/x-python",
   "name": "python",
   "nbconvert_exporter": "python",
   "pygments_lexer": "ipython3",
   "version": "3.11.6"
  }
 },
 "nbformat": 4,
 "nbformat_minor": 5
}
